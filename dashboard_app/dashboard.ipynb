{
 "cells": [
  {
   "cell_type": "code",
   "execution_count": 1,
   "id": "eab4579c",
   "metadata": {},
   "outputs": [
    {
     "ename": "ModuleNotFoundError",
     "evalue": "No module named 'ipywidgets'",
     "output_type": "error",
     "traceback": [
      "\u001b[31m---------------------------------------------------------------------------\u001b[39m",
      "\u001b[31mModuleNotFoundError\u001b[39m                       Traceback (most recent call last)",
      "\u001b[36mCell\u001b[39m\u001b[36m \u001b[39m\u001b[32mIn[1]\u001b[39m\u001b[32m, line 3\u001b[39m\n\u001b[32m      1\u001b[39m \u001b[38;5;28;01mimport\u001b[39;00m\u001b[38;5;250m \u001b[39m\u001b[34;01mpandas\u001b[39;00m\u001b[38;5;250m \u001b[39m\u001b[38;5;28;01mas\u001b[39;00m\u001b[38;5;250m \u001b[39m\u001b[34;01mpd\u001b[39;00m\n\u001b[32m      2\u001b[39m \u001b[38;5;28;01mimport\u001b[39;00m\u001b[38;5;250m \u001b[39m\u001b[34;01mplotly\u001b[39;00m\u001b[34;01m.\u001b[39;00m\u001b[34;01mexpress\u001b[39;00m\u001b[38;5;250m \u001b[39m\u001b[38;5;28;01mas\u001b[39;00m\u001b[38;5;250m \u001b[39m\u001b[34;01mpx\u001b[39;00m\n\u001b[32m----> \u001b[39m\u001b[32m3\u001b[39m \u001b[38;5;28;01mimport\u001b[39;00m\u001b[38;5;250m \u001b[39m\u001b[34;01mipywidgets\u001b[39;00m\u001b[38;5;250m \u001b[39m\u001b[38;5;28;01mas\u001b[39;00m\u001b[38;5;250m \u001b[39m\u001b[34;01mwidgets\u001b[39;00m\n\u001b[32m      4\u001b[39m \u001b[38;5;28;01mfrom\u001b[39;00m\u001b[38;5;250m \u001b[39m\u001b[34;01mIPython\u001b[39;00m\u001b[34;01m.\u001b[39;00m\u001b[34;01mdisplay\u001b[39;00m\u001b[38;5;250m \u001b[39m\u001b[38;5;28;01mimport\u001b[39;00m display\n\u001b[32m      6\u001b[39m df = pd.read_csv(\u001b[33m\"\u001b[39m\u001b[33m../data/synthetic_screen_time_500k.csv\u001b[39m\u001b[33m\"\u001b[39m)\n",
      "\u001b[31mModuleNotFoundError\u001b[39m: No module named 'ipywidgets'"
     ]
    }
   ],
   "source": [
    "import pandas as pd\n",
    "import plotly.express as px\n",
    "import ipywidgets as widgets\n",
    "from IPython.display import display\n",
    "\n",
    "df = pd.read_csv(\"../data/synthetic_screen_time_500k.csv\")\n",
    "\n",
    "print(\"✅ PROFESSIONAL DASHBOARD LOADED\")\n",
    "\n",
    "# Dropdowns & Sliders\n",
    "gender_dd = widgets.Dropdown(options=[\"All\"] + list(df[\"gender\"].unique()), value=\"All\", description=\"Gender:\")\n",
    "location_dd = widgets.Dropdown(options=[\"All\"] + list(df[\"location_type\"].unique()), value=\"All\", description=\"Location:\")\n",
    "age_slider = widgets.IntRangeSlider(value=[18,40], min=int(df[\"age\"].min()), max=int(df[\"age\"].max()), step=1, description='Age Range:')\n",
    "\n",
    "# Dashboard Function\n",
    "def update_dashboard(gender, location, age):\n",
    "    filtered = df.copy()\n",
    "    if gender != \"All\":\n",
    "        filtered = filtered[filtered[\"gender\"] == gender]\n",
    "    if location != \"All\":\n",
    "        filtered = filtered[filtered[\"location_type\"] == location]\n",
    "    filtered = filtered[(filtered[\"age\"] >= age[0]) & (filtered[\"age\"] <= age[1])]\n",
    "    \n",
    "    fig1 = px.histogram(filtered, x=\"daily_screen_time_hours\", nbins=30, title=\"Screen Time Distribution\")\n",
    "    fig2 = px.box(filtered, x=\"gender\", y=\"daily_screen_time_hours\", color=\"gender\", title=\"Gender-wise Screen Time\")\n",
    "    fig3 = px.scatter(filtered, x=\"daily_screen_time_hours\", y=\"mental_health_score\",\n",
    "                      color=\"gender\", trendline=\"ols\", title=\"Screen Time vs Mental Health\")\n",
    "\n",
    "    fig1.show(); fig2.show(); fig3.show()\n",
    "\n",
    "widgets.interactive(update_dashboard, gender=gender_dd, location=location_dd, age=age_slider)\n"
   ]
  }
 ],
 "metadata": {
  "kernelspec": {
   "display_name": "Python 3",
   "language": "python",
   "name": "python3"
  },
  "language_info": {
   "codemirror_mode": {
    "name": "ipython",
    "version": 3
   },
   "file_extension": ".py",
   "mimetype": "text/x-python",
   "name": "python",
   "nbconvert_exporter": "python",
   "pygments_lexer": "ipython3",
   "version": "3.13.5"
  }
 },
 "nbformat": 4,
 "nbformat_minor": 5
}
