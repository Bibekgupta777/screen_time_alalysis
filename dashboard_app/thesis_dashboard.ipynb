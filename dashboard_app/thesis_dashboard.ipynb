{
 "cells": [
  {
   "cell_type": "code",
   "execution_count": 1,
   "id": "8bee3706",
   "metadata": {},
   "outputs": [
    {
     "ename": "ModuleNotFoundError",
     "evalue": "No module named 'jupyter_dash'",
     "output_type": "error",
     "traceback": [
      "\u001b[31m---------------------------------------------------------------------------\u001b[39m",
      "\u001b[31mModuleNotFoundError\u001b[39m                       Traceback (most recent call last)",
      "\u001b[36mCell\u001b[39m\u001b[36m \u001b[39m\u001b[32mIn[1]\u001b[39m\u001b[32m, line 1\u001b[39m\n\u001b[32m----> \u001b[39m\u001b[32m1\u001b[39m \u001b[38;5;28;01mfrom\u001b[39;00m\u001b[38;5;250m \u001b[39m\u001b[34;01mjupyter_dash\u001b[39;00m\u001b[38;5;250m \u001b[39m\u001b[38;5;28;01mimport\u001b[39;00m JupyterDash\n\u001b[32m      2\u001b[39m \u001b[38;5;28;01mfrom\u001b[39;00m\u001b[38;5;250m \u001b[39m\u001b[34;01mdash\u001b[39;00m\u001b[38;5;250m \u001b[39m\u001b[38;5;28;01mimport\u001b[39;00m Dash, dcc, html, Input, Output\n\u001b[32m      3\u001b[39m \u001b[38;5;28;01mimport\u001b[39;00m\u001b[38;5;250m \u001b[39m\u001b[34;01mdash_bootstrap_components\u001b[39;00m\u001b[38;5;250m \u001b[39m\u001b[38;5;28;01mas\u001b[39;00m\u001b[38;5;250m \u001b[39m\u001b[34;01mdbc\u001b[39;00m\n",
      "\u001b[31mModuleNotFoundError\u001b[39m: No module named 'jupyter_dash'"
     ]
    }
   ],
   "source": [
    "from jupyter_dash import JupyterDash\n",
    "from dash import Dash, dcc, html, Input, Output\n",
    "import dash_bootstrap_components as dbc\n",
    "import pandas as pd\n",
    "import plotly.express as px\n",
    "\n",
    "# Load Dataset\n",
    "df = pd.read_csv(\"../data/synthetic_screen_time_500k.csv\")\n",
    "\n",
    "# Default Theme\n",
    "theme_light = dbc.themes.BOOTSTRAP\n",
    "theme_dark = dbc.themes.DARKLY\n",
    "\n",
    "current_theme = theme_dark\n"
   ]
  },
  {
   "cell_type": "code",
   "execution_count": null,
   "id": "512cf65e",
   "metadata": {},
   "outputs": [
    {
     "name": "stderr",
     "output_type": "stream",
     "text": [
      "c:\\Users\\Vivke\\AppData\\Local\\Programs\\Python\\Python313\\Lib\\site-packages\\dash\\dash.py:634: UserWarning:\n",
      "\n",
      "JupyterDash is deprecated, use Dash instead.\n",
      "See https://dash.plotly.com/dash-in-jupyter for more details.\n",
      "\n"
     ]
    }
   ],
   "source": [
    "# Initialize Jupyter Dash App\n",
    "app = JupyterDash(__name__, external_stylesheets=[current_theme])\n",
    "app.title = \"Thesis Dashboard\"\n"
   ]
  },
  {
   "cell_type": "code",
   "execution_count": null,
   "id": "33384bef",
   "metadata": {},
   "outputs": [],
   "source": [
    "app.layout = dbc.Container([\n",
    "    dbc.Row([\n",
    "        dbc.Col(html.H2(\"📊 Screen Time Thesis Dashboard\", className=\"text-center mt-3\"))\n",
    "    ]),\n",
    "\n",
    "    # Theme Switch Toggle\n",
    "    dbc.Row([\n",
    "        dbc.Col([\n",
    "            html.Label(\"Theme Mode:\"),\n",
    "            dcc.RadioItems(\n",
    "                options=[{\"label\":\" Light\", \"value\":\"light\"}, {\"label\":\" Dark\", \"value\":\"dark\"}],\n",
    "                value=\"dark\", id=\"theme-toggle\", inline=True\n",
    "            )\n",
    "        ], width=3)\n",
    "    ], className=\"mb-3\"),\n",
    "\n",
    "    # Tabs for Multi-Page Layout\n",
    "    dcc.Tabs(id=\"tabs\", value=\"overview\", children=[\n",
    "        dcc.Tab(label=\"Overview\", value=\"overview\"),\n",
    "        dcc.Tab(label=\"Stress Analysis\", value=\"stress\"),\n",
    "        dcc.Tab(label=\"Sleep Analysis\", value=\"sleep\"),\n",
    "    ]),\n",
    "\n",
    "    html.Div(id=\"tab-content\", className=\"p-3\")\n",
    "], fluid=True)\n"
   ]
  },
  {
   "cell_type": "code",
   "execution_count": null,
   "id": "1bce340a",
   "metadata": {},
   "outputs": [],
   "source": [
    "@app.callback(\n",
    "    Output(\"tab-content\", \"children\"),\n",
    "    [Input(\"tabs\", \"value\"), Input(\"theme-toggle\", \"value\")]\n",
    ")\n",
    "def render_content(tab, theme):\n",
    "    # Theme Handling (light/dark)\n",
    "    global current_theme\n",
    "    current_theme = theme_dark if theme == \"dark\" else theme_light\n",
    "\n",
    "    # -------------------\n",
    "    if tab == \"overview\":\n",
    "        fig1 = px.histogram(df, x=\"daily_screen_time_hours\", nbins=30, title=\"Screen Time Distribution\")\n",
    "        fig2 = px.box(df, x=\"gender\", y=\"daily_screen_time_hours\", color=\"gender\", title=\"Gender-wise Screen Time\")\n",
    "        fig3 = px.scatter(df, x=\"daily_screen_time_hours\", y=\"mental_health_score\", color=\"gender\",\n",
    "                          trendline=\"ols\", title=\"Screen Time vs Mental Health Score\")\n",
    "        return html.Div([\n",
    "            dbc.Row([dbc.Col(dcc.Graph(figure=fig1), width=6),\n",
    "                     dbc.Col(dcc.Graph(figure=fig2), width=6)]),\n",
    "            dbc.Row([dbc.Col(dcc.Graph(figure=fig3), width=12)])\n",
    "        ])\n",
    "\n",
    "    elif tab == \"stress\":\n",
    "        fig4 = px.violin(df, x=\"location_type\", y=\"stress_level\", color=\"location_type\",\n",
    "                         box=True, points=\"all\", title=\"Stress Level by Location\")\n",
    "        fig5 = px.scatter(df, x=\"stress_level\", y=\"daily_screen_time_hours\", color=\"gender\",\n",
    "                          trendline=\"ols\", title=\"Stress vs Screen Time\")\n",
    "        return html.Div([\n",
    "            dbc.Row([dbc.Col(dcc.Graph(figure=fig4), width=6),\n",
    "                     dbc.Col(dcc.Graph(figure=fig5), width=6)])\n",
    "        ])\n",
    "\n",
    "    elif tab == \"sleep\":\n",
    "        fig6 = px.histogram(df, x=\"sleep_duration_hours\", color=\"screen_time_group\",\n",
    "                            title=\"Sleep Duration by Screen Time Group\")\n",
    "        fig7 = px.scatter(df, x=\"sleep_duration_hours\", y=\"mental_health_score\",\n",
    "                          color=\"screen_time_group\", trendline=\"ols\", title=\"Sleep vs Mental Health\")\n",
    "        return html.Div([\n",
    "            dbc.Row([dbc.Col(dcc.Graph(figure=fig6), width=6),\n",
    "                     dbc.Col(dcc.Graph(figure=fig7), width=6)])\n",
    "        ])\n"
   ]
  },
  {
   "cell_type": "code",
   "execution_count": null,
   "id": "1db76ac4",
   "metadata": {},
   "outputs": [],
   "source": []
  },
  {
   "cell_type": "code",
   "execution_count": null,
   "id": "8bbfa067",
   "metadata": {},
   "outputs": [],
   "source": []
  },
  {
   "cell_type": "code",
   "execution_count": null,
   "id": "08ce6152",
   "metadata": {},
   "outputs": [],
   "source": []
  },
  {
   "cell_type": "code",
   "execution_count": null,
   "id": "9535f632",
   "metadata": {},
   "outputs": [],
   "source": []
  }
 ],
 "metadata": {
  "kernelspec": {
   "display_name": ".venv",
   "language": "python",
   "name": "python3"
  },
  "language_info": {
   "codemirror_mode": {
    "name": "ipython",
    "version": 3
   },
   "file_extension": ".py",
   "mimetype": "text/x-python",
   "name": "python",
   "nbconvert_exporter": "python",
   "pygments_lexer": "ipython3",
   "version": "3.13.5"
  }
 },
 "nbformat": 4,
 "nbformat_minor": 5
}
